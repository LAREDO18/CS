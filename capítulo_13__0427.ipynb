{
  "nbformat": 4,
  "nbformat_minor": 0,
  "metadata": {
    "colab": {
      "provenance": []
    },
    "kernelspec": {
      "name": "python3",
      "display_name": "Python 3"
    },
    "language_info": {
      "name": "python"
    }
  },
  "cells": [
    {
      "cell_type": "code",
      "execution_count": 88,
      "metadata": {
        "id": "1D-tsH5ItOK-"
      },
      "outputs": [],
      "source": [
        "import pandas as pd\n",
        "import numpy as np\n",
        "import matplotlib.pyplot as plt\n",
        "kim=pd.read_excel('/content/sample_data/kim_final_reglog.xlsx')"
      ]
    },
    {
      "cell_type": "code",
      "source": [
        "#distribuição de referência dos escores para reglog com k=15\n",
        "\n",
        "scr=1000*np.round(kim['y_pred_prob'],3)\n",
        "\n",
        "kim['classes'] = pd.qcut(scr,q=15, labels=False)\n",
        "\n",
        "# Frequências relativas\n",
        "\n",
        "frequencias_relativas = kim['classes'].value_counts().sort_index()\n",
        "ref_abs = frequencias_relativas.values\n",
        "print(\"\\nfrequencias  -  distribuição de referência dos escores \\n\",np.round(ref_abs, 4))\n",
        "frequencias_relativas = kim['classes'].value_counts(normalize=True).sort_index()\n",
        "ref = frequencias_relativas.values\n",
        "print(\"\\nfrequencias relativas - distribuição de referência\\n\",np.round(ref, 4))"
      ],
      "metadata": {
        "id": "bP987M-7tjfV"
      },
      "execution_count": null,
      "outputs": []
    },
    {
      "cell_type": "code",
      "source": [
        "#PSI para escores utilizando uma distribuição de valores aleatórios\n",
        "#entre 0,055 e 0,080 com soma=1,0 ---> será nostra dist de monitoramento\n",
        "monit=[0.065373, 0.073343, 0.055813, 0.057901, 0.060396,\n",
        " 0.075867, 0.067828, 0.078254, 0.067669, 0.060195,\n",
        " 0.064687, 0.080898, 0.065708, 0.058845, 0.068223]\n",
        "import numpy as np\n",
        "monit = np.array(monit)\n",
        "monit=np.round(monit,4)\n",
        "print(\"\\nfrequencias relativas - distribuição de monitoramento\\n\",monit)\n",
        "np.sum(monit)"
      ],
      "metadata": {
        "colab": {
          "base_uri": "https://localhost:8080/"
        },
        "id": "unZ6vQgxIkuZ",
        "outputId": "761389c5-2632-4b89-d19c-52a9b07d63ac"
      },
      "execution_count": 94,
      "outputs": [
        {
          "output_type": "stream",
          "name": "stdout",
          "text": [
            "\n",
            "frequencias relativas - distribuição de monitoramento\n",
            " [0.0654 0.0733 0.0558 0.0579 0.0604 0.0759 0.0678 0.0783 0.0677 0.0602\n",
            " 0.0647 0.0809 0.0657 0.0588 0.0682]\n"
          ]
        },
        {
          "output_type": "execute_result",
          "data": {
            "text/plain": [
              "np.float64(1.001)"
            ]
          },
          "metadata": {},
          "execution_count": 94
        }
      ]
    },
    {
      "cell_type": "code",
      "source": [
        "#distribuição de referência de ESCOLARIDADE na amostra teste\n",
        "#mesma amostra usada para PSI dos escores\n",
        "# Frequencias de ESCOLARIDADE =================================================\n",
        "\n",
        "# Primeiro faça o upload do arquivo\n",
        "kim=pd.read_excel('/content/sample_data/Kimsport.xlsx')\n",
        "from sklearn.model_selection import train_test_split\n",
        "X_train, X_test = train_test_split(kim,  test_size=0.4, random_state=18)\n",
        "print(X_test.shape)\n",
        "#\n",
        "\n",
        "# Ordem especificada pelo analista para imprimir depois a tabela de freqs\n",
        "ordem_alfa= ['primario', \"secundario\",\"superior\",'posgrad'] #ordena colunas conforme desejado\n",
        "\n",
        "# Definindo a ordem categórica (Não ordena o DataFrame, apenas define uma ordem categórica para a coluna 'ESCOLARIDADE'.)\n",
        "# Útil para gráficos ou para aplicar o comando sort_values() posteriormente\n",
        "X_test['ESCOLARIDADE'] = pd.Categorical(X_test['ESCOLARIDADE'], categories=ordem_alfa, ordered=True)\n",
        "\n",
        "# Calcular a frequência;  dropna=False conta o número de dados em branco\n",
        "tabela_frequencias = X_test['ESCOLARIDADE'].value_counts(dropna=False).sort_index()\n",
        "# Calcular a frequência relativa; dropna conta dados em branco\n",
        "frequencia_relativa = X_test['ESCOLARIDADE'].value_counts(normalize=True,dropna=False).sort_index()\n",
        "refer=np.array(frequencia_relativa)\n",
        "print(\"frequências de referência de ESCOLARIDADE\\n\",np.round(refer, 4))\n",
        "tabela_freq = pd.DataFrame({'Frequência': tabela_frequencias, 'Frequência Relativa': frequencia_relativa})\n",
        "print(tabela_freq)\n"
      ],
      "metadata": {
        "id": "6rF8asTYvy6p",
        "collapsed": true
      },
      "execution_count": null,
      "outputs": []
    }
  ]
}
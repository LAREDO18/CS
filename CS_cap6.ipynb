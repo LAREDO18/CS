{
  "nbformat": 4,
  "nbformat_minor": 0,
  "metadata": {
    "colab": {
      "provenance": []
    },
    "kernelspec": {
      "name": "python3",
      "display_name": "Python 3"
    },
    "language_info": {
      "name": "python"
    }
  },
  "cells": [
    {
      "cell_type": "code",
      "source": [
        "# Código 6.0:  Bibliotecas e programas %%%%%%%%%%%%%%%%%%%%%%%%%%%%%%%%%%%%%%%%%%\n",
        "\n",
        "#                 rode sempre este código antes dos demais\n",
        "import pandas as pd\n",
        "import numpy as np\n",
        "import seaborn as sns\n",
        "import matplotlib.pyplot as plt\n",
        "from sklearn.feature_selection import SelectKBest, chi2\n",
        "!pip install feature_engine > /dev/null\n",
        "from feature_engine.selection import SelectByInformationValue\n",
        "from sklearn.preprocessing import LabelEncoder\n",
        "from sklearn.model_selection import train_test_split\n",
        "from statsmodels.stats.outliers_influence import variance_inflation_factor\n",
        "from statsmodels.tools.tools import add_constant"
      ],
      "metadata": {
        "id": "_8CSsSnNhTfo"
      },
      "execution_count": null,
      "outputs": []
    },
    {
      "cell_type": "code",
      "execution_count": null,
      "metadata": {
        "id": "_rVu4nrQxeQC"
      },
      "outputs": [],
      "source": [
        "# Código 6.1: Criando os dataframes kim e kim5  %%%%%%%%%%%%%%%%%%%%%%%%%%%%%%%%%%\n",
        "# Primeiro baixe os arquivos Kimsport e  Kimsport5 do github\n",
        "# salve em seu computador\n",
        "# faça o upload do arquivo no colab\n",
        "\n",
        "kim=pd.read_excel('/content/sample_data/Kimsport.xlsx')\n",
        "display(kim.head(3))\n",
        "kim5=pd.read_excel('/content/sample_data/Kimsport5.xlsx')\n",
        "display(kim5.head(3))\n"
      ]
    },
    {
      "cell_type": "code",
      "source": [
        "# Código 6.2: Tabela de contingência RESID x STATUS %%%%%%%%%%%%%%%%%%%%%%%%%%%%\n",
        "\n",
        "# Tabela de contingência\n",
        "freq_abs= pd.crosstab(kim5['RESID'], kim5['STATUS'])\n",
        "# Tabela de contingência com porcentagens nas linhas==> normalize='index'\n",
        "freq_porc= pd.crosstab(kim5['RESID'], kim5['STATUS'], normalize='index') * 100\n",
        "# Combinando as duas tabelas\n",
        "tabela_combinada = freq_abs.astype(str) + ' (' + freq_porc.round(1).astype(str) + '%)'\n",
        "print(tabela_combinada)\n",
        "\n",
        "# Tabela de contingência com porcentagens nas colunas ==> normalize='columns'\n",
        "freq_porc= pd.crosstab(kim5['RESID'], kim5['STATUS'], normalize='columns') * 100\n",
        "tabela_combinada = freq_abs.astype(str) + ' (' + freq_porc.round(1).astype(str) + '%)'\n",
        "print(\"\\n\",tabela_combinada)"
      ],
      "metadata": {
        "collapsed": true,
        "id": "QDOVJCBVYNqI"
      },
      "execution_count": null,
      "outputs": []
    },
    {
      "cell_type": "code",
      "source": [
        "# Código 6.3: Tabela de contingência TMP_RESID x STATUS e Fusão de Classes\n",
        "\n",
        "# Ordem especificada pelo analista para imprimir depois a tabela\n",
        "ordem_alfa= ['0a1', \"2a5\",\"6a10\",'11mais']\n",
        "\n",
        "# Tabela de contingência\n",
        "freq_abs= pd.crosstab(kim5['TMP_RESID'], kim5['STATUS'])\n",
        "\n",
        "# Tabela de contingência com porcentagens nas linhas ==> normalize='index'\n",
        "freq_porc= pd.crosstab(kim5['TMP_RESID'], kim5['STATUS'], normalize='index') * 100\n",
        "# Combinando as duas tabelas\n",
        "tabela_combinada = freq_abs.astype(str) + ' (' + freq_porc.round(1).astype(str) + '%)'\n",
        "\n",
        "# ordenando as duas tabelas\n",
        "tabela_combinada_sorted = tabela_combinada.reindex(ordem_alfa)\n",
        "print(tabela_combinada_sorted, \"\\n\")\n",
        "\n",
        "\n",
        "#fusao de classes\n",
        "kim5=pd.read_excel('/content/sample_data/Kimsport5.xlsx')\n",
        "display(kim5.head(3))\n",
        "\n",
        "kim5['TMP_RESID'] = kim5['TMP_RESID'].replace(['6a10'], '6mais')\n",
        "kim5['TMP_RESID'] = kim5['TMP_RESID'].replace(['11mais'], '6mais')\n",
        "\n",
        "freq_absx= pd.crosstab(kim5['TMP_RESID'], kim5['STATUS'])\n",
        "freq_porcx= pd.crosstab(kim5['TMP_RESID'], kim5['STATUS'], normalize='index') * 100\n",
        "tabela_combinada = freq_absx.astype(str) + ' (' + freq_porcx.round(1).astype(str) + '%)'\n",
        "ordem_alfa= ['0a1', \"2a5\",\"6mais\"]\n",
        "tabela_combinada_sorted = tabela_combinada.reindex(ordem_alfa)\n",
        "print(\"\\n\",tabela_combinada_sorted)\n"
      ],
      "metadata": {
        "id": "TebvPAPyZu5z",
        "collapsed": true
      },
      "execution_count": null,
      "outputs": []
    },
    {
      "cell_type": "code",
      "source": [
        "# Código 6.4: Tabela de contingência ESCOLARIDADE x STATUS  %%%%%%%%%%%%%%%%%%%%\n",
        "\n",
        "# Ordem especificada pelo analista para imprimir depois a tabela\n",
        "ordem_alfa= ['primario', \"secundario\",\"superior\",'posgrad']\n",
        "\n",
        "# Tabela de contingência com porcentagens nas linhas ==> normalize='index'\n",
        "freq_abs= pd.crosstab(kim5['ESCOLARIDADE'], kim5['STATUS'])\n",
        "\n",
        "# Tabela de contingência com porcentagens nas linhas\n",
        "freq_porc= pd.crosstab(kim5['ESCOLARIDADE'], kim5['STATUS'], normalize='index') * 100\n",
        "# Combinando as duas tabelas\n",
        "tabela_combinada = freq_abs.astype(str) + ' (' + freq_porc.round(1).astype(str) + '%)'\n",
        "tabela_combinada_sorted = tabela_combinada.reindex(ordem_alfa)\n",
        "print(tabela_combinada_sorted)"
      ],
      "metadata": {
        "id": "ujP6LH54kC5-"
      },
      "execution_count": null,
      "outputs": []
    },
    {
      "cell_type": "code",
      "source": [
        "# Código 6.5: Tabela de contingência ESTCIV x STATUS  %%%%%%%%%%%%%%%%%%%%%%%%%%%%\n",
        "\n",
        "ordem_alfa= ['solt', \"casad\",\"outros\"] #ordena colunas conforme desejado\n",
        "# Tabela de contingência com porcentagens nas linhas ==> normalize='index'\n",
        "freq_abs= pd.crosstab(kim5['ESTCIV'], kim5['STATUS'])\n",
        "# Tabela de contingência com porcentagens nas linhas\n",
        "freq_porc= pd.crosstab(kim5['ESTCIV'], kim5['STATUS'], normalize='index') * 100\n",
        "# Combinando as duas tabelas\n",
        "tabela_combinada = freq_abs.astype(str) + ' (' + freq_porc.round(1).astype(str) + '%)'\n",
        "tabela_combinada_sorted = tabela_combinada.reindex(ordem_alfa)\n",
        "print(tabela_combinada_sorted)"
      ],
      "metadata": {
        "id": "nO_m7PtJmO0I"
      },
      "execution_count": null,
      "outputs": []
    },
    {
      "cell_type": "code",
      "source": [
        "# Código 6.6: Tabela de contingência  NATUREZA x STATUS %%%%%%%%%%%%%%%%%%%%%%%%%%%%\n",
        "\n",
        "# Tabela de contingência com porcentagens nas linhas ==> normalize='index'\n",
        "freq_abs= pd.crosstab(kim5['NATUREZA'], kim5['STATUS'])\n",
        "# Tabela de contingência com porcentagens nas linhas\n",
        "freq_porc= pd.crosstab(kim5['NATUREZA'], kim5['STATUS'], normalize='index') * 100\n",
        "# Combinando as duas tabelas\n",
        "tabela_combinada = freq_abs.astype(str) + ' (' + freq_porc.round(1).astype(str) + '%)'\n",
        "print(tabela_combinada)"
      ],
      "metadata": {
        "id": "J8P-Dl_un2FK"
      },
      "execution_count": null,
      "outputs": []
    },
    {
      "cell_type": "code",
      "source": [
        "#Código 6.7: Tabela de contingência UFX x STATUS  %%%%%%%%%%%%%%%%%%%%%%%%%%%%%%%%%%\n",
        "\n",
        "# Tabela de contingência com porcentagens nas linhas ==> normalize='index'\n",
        "freq_abs= pd.crosstab(kim5['UFX'], kim5['STATUS'])\n",
        "# Tabela de contingência com porcentagens nas linhas\n",
        "freq_porc= pd.crosstab(kim5['UFX'], kim5['STATUS'], normalize='index') * 100\n",
        "# Combinando as duas tabelas\n",
        "tabela_combinada = freq_abs.astype(str) + ' (' + freq_porc.round(1).astype(str) + '%)'\n",
        "print(tabela_combinada)"
      ],
      "metadata": {
        "id": "aADOjwzLpaww"
      },
      "execution_count": null,
      "outputs": []
    },
    {
      "cell_type": "code",
      "source": [
        "# Código 6.8: Análise bivariada de IDADE x STATUS %%%%%%%%%%%%%%%%%%%%%%%%%%%%%%\n",
        "\n",
        "sumario = kim5.groupby('STATUS')['IDADE'].describe()\n",
        "print(sumario.round(2), \"\\n\")\n",
        "\n",
        "# Criando o box plot de 'IDADE' por 'STATUS'\n",
        "plt.figure(figsize=(5, 5))\n",
        "sns.boxplot(x='IDADE', y='STATUS', data=kim5, hue='STATUS',palette='Blues')\n",
        "plt.title('Box Plot de IDADE por STATUS')\n",
        "plt.xlabel('IDADE')\n",
        "plt.ylabel('STATUS')\n",
        "plt.grid(True, color=\"lightgrey\")\n",
        "plt.show()"
      ],
      "metadata": {
        "id": "tvfa5MCcszpF"
      },
      "execution_count": null,
      "outputs": []
    },
    {
      "cell_type": "code",
      "source": [
        "#Código 6.9: Análise bivariada de NURENDA x STATUS  %%%%%%%%%%%%%%%%%%%%%%%%%%%%%\n",
        "\n",
        "sumario = kim5.groupby('STATUS')['NURENDA'].describe()\n",
        "print(sumario.round(2), \"\\n\")\n",
        "\n",
        "plt.figure(figsize=(5, 5))\n",
        "sns.boxplot(x='NURENDA', y='STATUS', data=kim5, hue='STATUS',palette='Blues')\n",
        "plt.title('Box Plot de  NURENDA por STATUS')\n",
        "plt.xlabel('NURENDA')\n",
        "plt.ylabel('STATUS')\n",
        "plt.grid(True, color=\"lightgrey\")\n",
        "plt.show()\n",
        "\n",
        "#anaisando variavel RENDA antes da transformação\n",
        "plt.figure(figsize=(5, 5))\n",
        "sns.boxplot(x='RENDA', y='STATUS', data=kim, hue='STATUS',palette='Blues')\n",
        "plt.title('Box Plot de RENDA por STATUS')\n",
        "plt.xlabel('RENDA')\n",
        "plt.ylabel('STATUS')\n",
        "plt.grid(True, color=\"lightgrey\")\n",
        "plt.show()\n",
        "\n",
        "# Cria uma figura com 1 linha e 2 colunas de subplots (curiosidade ....)\n",
        "fig, axes = plt.subplots(1, 2, figsize=(6, 3), sharey=True)\n",
        "# Primeiro gráfico (Box Plot)\n",
        "sns.boxplot(x='RENDA', y='STATUS', data=kim, ax=axes[0], hue='STATUS', palette='Blues')\n",
        "axes[0].set_title('Box Plot de RENDA')\n",
        "plt.grid(True, color=\"lightgrey\")\n",
        "# Segundo gráfico (Violin Plot)\n",
        "sns.boxplot(x='NURENDA', y='STATUS', data=kim5, hue='STATUS', ax=axes[1], palette='Set3')\n",
        "axes[1].set_title('Box Plot de NURENDA')\n",
        "plt.grid(True, color=\"lightgrey\")\n",
        "# Ajuste do layout para evitar sobreposição\n",
        "plt.tight_layout()\n",
        "# Exibe os gráficos\n",
        "plt.show()"
      ],
      "metadata": {
        "id": "7zYnrTYjx5Ip"
      },
      "execution_count": null,
      "outputs": []
    },
    {
      "cell_type": "code",
      "source": [
        "# Código 6.10: Discretização de IDADE e fusao de classes %%%%%%%%%\n",
        "\n",
        "# usamos aqui o arquivo kim mas não salvaremos a nova variável\n",
        "#utilizamos apenas para ilustrar fusao de classes\n",
        "\n",
        "kim['KIDADE']= pd.qcut(kim['IDADE'], q=10) # divide em 10 classes de mesma freq.\n",
        "# Calcular a frequência;  dropna=False conta o número de dados em branco\n",
        "tabela_frequencias = kim['KIDADE'].value_counts(dropna=False).sort_index()\n",
        "freq_abs= pd.crosstab(kim['KIDADE'], kim['STATUS'])\n",
        "freq_porc= pd.crosstab(kim['KIDADE'], kim['STATUS'], normalize='index') *100\n",
        "tabela_combinada = freq_abs.astype(str) + ' (' + freq_porc.round(1).astype(str) + '%)'\n",
        "\n",
        "tabela_combinada['BP/MP'] = freq_porc['BP']/freq_porc['MP']\n",
        "print(tabela_combinada.round(2))\n",
        "\n",
        "# porcentagem coluna para cálculo do WOE\n",
        "freq_porc= pd.crosstab(kim['KIDADE'], kim['STATUS'], normalize='columns') *100\n",
        "tabela_combinada = freq_abs.astype(str) + ' (' + freq_porc.round(1).astype(str) + '%)'\n",
        "tabela_combinada[\"WOE\"]= np.log(freq_porc['BP']/freq_porc['MP'])\n",
        "print(\"\\n\",tabela_combinada .round(2))"
      ],
      "metadata": {
        "id": "PbgNg3idp0nt"
      },
      "execution_count": null,
      "outputs": []
    },
    {
      "cell_type": "code",
      "source": [
        "#Código 6.11: Pré-seleção de variáveis com IV de Kullback &&&&&&&&&&&&&&&&&&&&&&&\n",
        "\n",
        "# Separando variáveis preditoras e target\n",
        "X = kim5.drop(columns=([\"CLIENTE\", 'STATUS']))\n",
        "y = kim5['STATUS']\n",
        "\n",
        "# Configurando o seletor de variáveis baseado no Information Value\n",
        "selector = SelectByInformationValue(\n",
        "    bins=10,                   # Número de bins para discretização\n",
        "    strategy='equal_frequency', # Estratégia de binning\n",
        "    threshold=0.01)           # Limite mínimo de IV para seleção\n",
        "\n",
        "# Ajustando o seletor aos dados\n",
        "selector.fit(X, y)\n",
        "iv_scores = selector.information_values_\n",
        "# Exibindo os scores de IV das variáveis\n",
        "df = pd.DataFrame(list(iv_scores.items()), columns=['Variável', 'IV'])\n",
        "df_sorted= df.sort_values(by='IV', ascending=False)\n",
        "print('\\n')\n",
        "print(df_sorted)"
      ],
      "metadata": {
        "collapsed": true,
        "id": "N11L8YBl3DTD"
      },
      "execution_count": null,
      "outputs": []
    },
    {
      "cell_type": "code",
      "source": [
        "#Código 6.12: Correlações entre as quantitativas %%%%%%%%%%%%%%%%%%%%%%%%%%%%%%%\n",
        "\n",
        "# Selecionando apenas as variáveis quantitativas (numéricas)\n",
        "df_quantitativas = kim5.select_dtypes(include=['number'])\n",
        "print(df_quantitativas.columns, \"\\n\")\n",
        "# Calculando a matriz de correlação entre as variáveis quantitativas\n",
        "correlacao_matriz = df_quantitativas.corr()\n",
        "print(correlacao_matriz.round(2))"
      ],
      "metadata": {
        "id": "9zXB4ogx5mYP"
      },
      "execution_count": null,
      "outputs": []
    },
    {
      "cell_type": "code",
      "source": [
        "#Código 6.13: Gerando as dummies e arquivo Kimsport6 %%%%%%%%\n",
        "\n",
        "# Kimsport6 será utilizado para desenvolver e testar modelos\n",
        "# inclui alterações feitas no cap 6 e cap 5\n",
        "\n",
        "kimx = kim5.drop('CLIENTE', axis=1)\n",
        "#nao precisamos usar o ID do cliente para desenvolver os modelos\n",
        "print(kimx.columns)\n",
        "kimy=pd.get_dummies(kimx, drop_first=True, dtype=\"int\" )\n",
        "print(kimy.columns)\n",
        "\n",
        "#passar para excel\n",
        "#vamos criar Kimsport6\n",
        "Kimsport6=kimy.copy()\n",
        "print(Kimsport6.columns)\n",
        "\n",
        "!pip install openpyxl > /dev/null\n",
        "Kimsport6.to_excel('Kimsport6.xlsx', index=False)\n",
        "from google.colab import files\n",
        "files.download('Kimsport6.xlsx')"
      ],
      "metadata": {
        "id": "_fSo9UzSzR2z"
      },
      "execution_count": null,
      "outputs": []
    },
    {
      "cell_type": "code",
      "source": [
        "# Código 6.13:verificação de multicolinearidade %%%%%%%%%%%%%%%%%%%%%%%%%%%%%%%%\n",
        "# rodado após gerar as dummies acima (tratando as dummies como quantitativas)\n",
        "\n",
        "kim=pd.read_excel('/content/sample_data/Kimsport6.xlsx')\n",
        "\n",
        "X= kim.drop('STATUS_MP', axis=1)\n",
        "print(X.columns)\n",
        "y= kim['STATUS_MP']\n",
        "y=pd.DataFrame(y)\n",
        "X_train, X_test, y_train, y_test = train_test_split(X, y, test_size=0.4, random_state=18)\n",
        "X_train= add_constant(X_train)\n",
        "#verificação de multicolinearidade\n",
        "# Calculando o Variance Inflation Factor para cada variável\n",
        "vif_data = pd.DataFrame()\n",
        "vif_data[\"Variáveis\"] = X_train.columns\n",
        "vif_data[\"VIF\"] = [variance_inflation_factor(X_train.values, i) for i in range(X_train.shape[1])]\n",
        "print(vif_data)"
      ],
      "metadata": {
        "id": "ICwOHd2B8oQ5"
      },
      "execution_count": null,
      "outputs": []
    }
  ]
}
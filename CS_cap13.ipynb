{
  "nbformat": 4,
  "nbformat_minor": 0,
  "metadata": {
    "colab": {
      "provenance": []
    },
    "kernelspec": {
      "name": "python3",
      "display_name": "Python 3"
    },
    "language_info": {
      "name": "python"
    }
  },
  "cells": [
    {
      "cell_type": "code",
      "execution_count": null,
      "metadata": {
        "id": "1D-tsH5ItOK-"
      },
      "outputs": [],
      "source": [
        "# Código 13.0:  Bibliotecas e programas %%%%%%%%%%%%%%%%%%%%%%%%%%%%%%%%%%%%%%%%%%\n",
        "\n",
        "#                 rode sempre este código antes dos demais\n",
        "import pandas as pd\n",
        "import numpy as np\n",
        "import matplotlib.pyplot as plt\n",
        "from sklearn.model_selection import train_test_split"
      ]
    },
    {
      "cell_type": "code",
      "source": [
        "# Código 13.1: Criando os dataframes kim e kim2  %%%%%%%%%%%%%%%%%%%%%%%%%%%%%%%%%%\n",
        "# Primeiro baixe os arquivos Kimsport e  Kimsport5 do github\n",
        "# salve em seu computador\n",
        "# faça o upload do arquivo no colab\n",
        "kim=pd.read_excel('/content/sample_data/kim_final_reglog.xlsx')\n",
        "kim2=pd.read_excel('/content/sample_data/Kimsport.xlsx')"
      ],
      "metadata": {
        "id": "5NouVh1doNND"
      },
      "execution_count": null,
      "outputs": []
    },
    {
      "cell_type": "code",
      "source": [
        "#Código 13.2: Distribuição de referência dos escores para REGLOG %%%%%%%%%%%%%%%\n",
        "scr=1000*np.round(1-kim['y_pred_prob'],3) #scr=1000 x prob bom pagador\n",
        "kim['classes'] = pd.qcut(scr,q=10, labels=False) #k = 10 categorias\n",
        "# Frequências relativas\n",
        "frequencias_relativas = kim['classes'].value_counts().sort_index()\n",
        "ref_abs = frequencias_relativas.values\n",
        "print(\"\\nfrequencias  -  distribuição de referência dos escores \\n\",np.round(ref_abs, 4))\n",
        "frequencias_relativas = kim['classes'].value_counts(normalize=True).sort_index()\n",
        "ref = frequencias_relativas.values\n",
        "print(\"\\nfrequencias relativas - distribuição de referência\\n\",np.round(ref, 4))"
      ],
      "metadata": {
        "id": "bP987M-7tjfV"
      },
      "execution_count": null,
      "outputs": []
    },
    {
      "cell_type": "code",
      "source": [
        "# Código 13.3: Population Stability Index para escores %%%%%%%%%%%%%%%%%%%%%%%%\n",
        "# utilizando uma distribuição imaginária de monitoramento com\n",
        "#aleatórios entre 0,09 e 0,12 e soma=1,0\n",
        "monit=[0.1021, 0.1185, 0.0942, 0.1163, 0.0968, 0.1059, 0.1017, 0.0934, 0.0960, 0.0751]\n",
        "monit = np.array(monit)\n",
        "monit=np.round(monit,4)\n",
        "print(\"\\nfrequencias relativas - distribuição de monitoramento\\n\",monit)\n",
        "# Population stability index:\n",
        "PSI= np.sum((ref-monit) * np.log(ref / monit))\n",
        "print(\"\\nfrequencias relativas - distribuição de referência\\n\",np.round(ref, 4))\n",
        "print(\"\\nPopulation stability index:\", np.round(PSI,3))"
      ],
      "metadata": {
        "id": "unZ6vQgxIkuZ"
      },
      "execution_count": null,
      "outputs": []
    },
    {
      "cell_type": "code",
      "source": [
        "#Código 13.4: Population stability index de ESCOLARIDADE %%%%%%%%%%%%%%%%%%%%%%%\n",
        "\n",
        "# Gerando frequencias de ESCOLARIDADE na amostra teste\n",
        "X_train, X_test = train_test_split(kim2,  test_size=0.4, random_state=18)\n",
        "print(X_test.shape)\n",
        "## Ordem especificada pelo analista para imprimir depois a tabela de freqs\n",
        "ordem_alfa= ['primario', \"secundario\",\"superior\",'posgrad'] #ordena colunas conforme desejado\n",
        "# Definindo a ordem categórica\n",
        "X_test['ESCOLARIDADE'] = pd.Categorical(X_test['ESCOLARIDADE'], categories=ordem_alfa, ordered=True)\n",
        "# Calcular a frequência;  dropna=False conta o número de dados em branco\n",
        "tabela_frequencias = X_test['ESCOLARIDADE'].value_counts(dropna=False).sort_index()\n",
        "# Calcular a frequência relativa; dropna conta dados em branco\n",
        "frequencia_relativa = X_test['ESCOLARIDADE'].value_counts(normalize=True,dropna=False).sort_index()\n",
        "tabela_freq = pd.DataFrame({'Frequência': tabela_frequencias, 'Frequência Relativa': np.round(frequencia_relativa,3)})\n",
        "print(tabela_freq)\n",
        "refv=np.array(tabela_freq['Frequência Relativa'])\n",
        "moniv=[0.35, 0.35, 0.150, 0.150]  # valores imaginários para ilustração\n",
        "moniv=np.array(moniv)\n",
        "\n",
        "# Population stability index:\n",
        "PSI= np.sum((refv-moniv) * np.log(refv / moniv))\n",
        "print(\"\\nfrequencias relativas - distribuição de referência\\n\",np.round(refv, 4))\n",
        "print(\"\\nfrequencias relativas - distribuição de monitoramento\\n\",np.round(moniv, 4))\n",
        "print(\"\\nPopulation stability index:\", np.round(PSI,3))\n"
      ],
      "metadata": {
        "id": "6rF8asTYvy6p",
        "collapsed": true
      },
      "execution_count": null,
      "outputs": []
    },
    {
      "cell_type": "code",
      "source": [
        "#Código 13.5: Cálculo de PSI para a variável UF do exemplo seção 11.3.8 %%%%%%%%\n",
        "\n",
        "refx=np.array([0.42, 0.18, 0.40])\n",
        "monx=np.array([0.36, 0.40, 0.24])\n",
        "\n",
        "# Population stability index:\n",
        "PSI= np.sum((refx-monx) * np.log(refx / monx))\n",
        "print(\"\\nPopulation stability index:\", np.round(PSI,3))"
      ],
      "metadata": {
        "id": "H0t0OOd5uS30"
      },
      "execution_count": null,
      "outputs": []
    }
  ]
}
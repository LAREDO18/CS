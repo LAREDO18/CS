{
  "nbformat": 4,
  "nbformat_minor": 0,
  "metadata": {
    "colab": {
      "provenance": []
    },
    "kernelspec": {
      "name": "python3",
      "display_name": "Python 3"
    },
    "language_info": {
      "name": "python"
    }
  },
  "cells": [
    {
      "cell_type": "code",
      "source": [
        "# Código 10.0:  Bibliotecas e programas %%%%%%%%%%%%%%%%%%%%%%%%%%%%%%%%%%%%%%%%%%\n",
        "\n",
        "#                 rode sempre este código antes dos demais\n",
        "\n",
        "import numpy as np\n",
        "import pandas as pd\n",
        "import statsmodels.api as sm\n",
        "from sklearn.metrics import roc_curve, auc,accuracy_score, precision_score, recall_score, f1_score,matthews_corrcoef,confusion_matrix\n",
        "import matplotlib.pyplot as plt\n",
        "from scipy import stats"
      ],
      "metadata": {
        "id": "VLEil8N7sKLr"
      },
      "execution_count": 2,
      "outputs": []
    },
    {
      "cell_type": "code",
      "source": [
        "#Código 10.1: Métricas para o modelo REG LOG %%%%%%%%%%%%%%%%%%%%%%%%%%%%%%%%%%%\n",
        "\n",
        "kim=pd.read_excel('/content/sample_data/kim_final_reglog.xlsx')\n",
        "freq = pd.Series(kim[\"status_mp\"]).value_counts()\n",
        "print(freq)\n",
        "#==============================================================================\n",
        "# Avaliação do modelo selecionando ponto de corte PC\n",
        "PC=0.5 # alterar PC para comparar resultados\n",
        "y_class = (kim['y_pred_prob'] >= PC).astype(int)\n",
        "accuracy = accuracy_score(kim['status_mp'], y_class)\n",
        "precision = precision_score(kim['status_mp'], y_class)\n",
        "recall = recall_score(kim['status_mp'], y_class)\n",
        "f1 = f1_score(kim['status_mp'], y_class)\n",
        "MCC=matthews_corrcoef(kim['status_mp'], y_class)\n",
        "conf_matrix = confusion_matrix(kim['status_mp'], y_class)\n",
        "conf_matrix=pd.DataFrame(conf_matrix)\n",
        "print(\"\\nResultados para REG LOG\")\n",
        "print(f\"Acurácia: {accuracy:.3f}\")\n",
        "print(f\"Precisão: {precision:.3f}\")\n",
        "print(f\"Recall: {recall:.3f}\")\n",
        "print(f\"F1-score: {f1:.3f}\")\n",
        "print(f\"Mathews correlation coeficient: {MCC:.3f}\")\n",
        "print(\"\\nMatriz de Classificação:\")\n",
        "conf_matrix = np.array(conf_matrix)\n",
        "df_conf_matrix = pd.DataFrame(conf_matrix, index=['Real BP', 'Real MP'],\n",
        "                              columns=['Predito BP', 'Predito MP'])\n",
        "print(df_conf_matrix)"
      ],
      "metadata": {
        "id": "RzEyN0kiGFjI",
        "collapsed": true
      },
      "execution_count": null,
      "outputs": []
    },
    {
      "cell_type": "code",
      "source": [
        "#Código 10.2:  Métricas para o modelo RF %%%%%%%%%%%%%%%%%%%%%%%%%%%%%%%%%%%%%%%%%%%%%%\n",
        "\n",
        "kim=pd.read_excel('/content/sample_data/kim_final_RF.xlsx')\n",
        "freq = pd.Series(kim[\"status_mp\"]).value_counts()\n",
        "print(freq)\n",
        "#==============================================================================\n",
        "# Avaliação do modelo\n",
        "PC=0.5  # alterar PC para comparar resultados\n",
        "y_class = (kim['y_pred_prob'] >= PC).astype(int)\n",
        "accuracy = accuracy_score(kim['status_mp'], y_class)\n",
        "precision = precision_score(kim['status_mp'], y_class)\n",
        "recall = recall_score(kim['status_mp'], y_class)\n",
        "f1 = f1_score(kim['status_mp'], y_class)\n",
        "MCC=matthews_corrcoef(kim['status_mp'], y_class)\n",
        "conf_matrix = confusion_matrix(kim['status_mp'], y_class)\n",
        "conf_matrix=pd.DataFrame(conf_matrix)\n",
        "print(\"\\n\\nResultados para RF\")\n",
        "print(f\"Acurácia: {accuracy:.3f}\")\n",
        "print(f\"Precisão: {precision:.3f}\")\n",
        "print(f\"Recall: {recall:.3f}\")\n",
        "print(f\"F1-score: {f1:.3f}\")\n",
        "print(f\"Mathews correlation coeficient: {MCC:.3f}\")\n",
        "print(\"\\nMatriz de Classificação:\")\n",
        "conf_matrix = np.array(conf_matrix)\n",
        "df_conf_matrix = pd.DataFrame(conf_matrix, index=['Real BP', 'Real MP'], columns=['Predito BP', 'Predito MP'])\n",
        "print(df_conf_matrix)"
      ],
      "metadata": {
        "id": "_kJeGpKTUAJO",
        "collapsed": true
      },
      "execution_count": null,
      "outputs": []
    },
    {
      "cell_type": "code",
      "source": [
        "#Código 10.3:  Métricas para o modelo  XGBoost  %%%%%%%%%%%%%%%%%%%%%%%%%%%%%%\n",
        "\n",
        "kim=pd.read_excel('/content/sample_data/kim_final_xgb.xlsx')\n",
        "freq = pd.Series(kim[\"status_mp\"]).value_counts()\n",
        "print(freq)\n",
        "#==============================================================================\n",
        "# Avaliação do modelo\n",
        "PC=0.4  # alterar PC para comparar resultados\n",
        "y_class = (kim['y_pred_prob'] >= PC).astype(int)\n",
        "accuracy = accuracy_score(kim['status_mp'], y_class)\n",
        "precision = precision_score(kim['status_mp'], y_class)\n",
        "recall = recall_score(kim['status_mp'], y_class)\n",
        "f1 = f1_score(kim['status_mp'], y_class)\n",
        "MCC=matthews_corrcoef(kim['status_mp'], y_class)\n",
        "conf_matrix = confusion_matrix(kim['status_mp'], y_class)\n",
        "conf_matrix=pd.DataFrame(conf_matrix)\n",
        "print(\"\\nResultados para XGBoost\")\n",
        "print(f\"Acurácia: {accuracy:.3f}\")\n",
        "print(f\"Precisão: {precision:.3f}\")\n",
        "print(f\"Recall: {recall:.3f}\")\n",
        "print(f\"F1-score: {f1:.3f}\")\n",
        "print(f\"Mathews correlation coeficient: {MCC:.3f}\")\n",
        "print(f\"\\nMatriz de Classificação para PC: {PC}\")\n",
        "conf_matrix = np.array(conf_matrix)\n",
        "df_conf_matrix = pd.DataFrame(conf_matrix, index=['Real BP', 'Real MP'], columns=['Predito BP', 'Predito MP'])\n",
        "print(df_conf_matrix)"
      ],
      "metadata": {
        "id": "Ka-MS1gIUC33"
      },
      "execution_count": null,
      "outputs": []
    }
  ]
}